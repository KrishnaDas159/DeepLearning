{
  "cells": [
    {
      "cell_type": "markdown",
      "metadata": {
        "id": "view-in-github",
        "colab_type": "text"
      },
      "source": [
        "<a href=\"https://colab.research.google.com/github/KrishnaDas159/DeepLearning/blob/main/graduate_admission_prediction_using_ann.ipynb\" target=\"_parent\"><img src=\"https://colab.research.google.com/assets/colab-badge.svg\" alt=\"Open In Colab\"/></a>"
      ]
    },
    {
      "cell_type": "code",
      "execution_count": null,
      "id": "89ad013e",
      "metadata": {
        "_cell_guid": "b1076dfc-b9ad-4769-8c92-a6c4dae69d19",
        "_uuid": "8f2839f25d086af736a60e9eeb907d3b93b6e0e5",
        "execution": {
          "iopub.execute_input": "2023-12-26T16:54:47.033836Z",
          "iopub.status.busy": "2023-12-26T16:54:47.032919Z",
          "iopub.status.idle": "2023-12-26T16:54:47.531724Z",
          "shell.execute_reply": "2023-12-26T16:54:47.530318Z"
        },
        "papermill": {
          "duration": 0.510554,
          "end_time": "2023-12-26T16:54:47.534739",
          "exception": false,
          "start_time": "2023-12-26T16:54:47.024185",
          "status": "completed"
        },
        "tags": [],
        "id": "89ad013e",
        "outputId": "d0abdf4d-85ee-4efb-8616-ed6043c3f411"
      },
      "outputs": [
        {
          "name": "stdout",
          "output_type": "stream",
          "text": [
            "/kaggle/input/graduate-admissions/Admission_Predict.csv\n",
            "/kaggle/input/graduate-admissions/Admission_Predict_Ver1.1.csv\n"
          ]
        }
      ],
      "source": [
        "# This Python 3 environment comes with many helpful analytics libraries installed\n",
        "# It is defined by the kaggle/python Docker image: https://github.com/kaggle/docker-python\n",
        "# For example, here's several helpful packages to load\n",
        "\n",
        "import numpy as np # linear algebra\n",
        "import pandas as pd # data processing, CSV file I/O (e.g. pd.read_csv)\n",
        "\n",
        "# Input data files are available in the read-only \"../input/\" directory\n",
        "# For example, running this (by clicking run or pressing Shift+Enter) will list all files under the input directory\n",
        "\n",
        "import os\n",
        "for dirname, _, filenames in os.walk('/kaggle/input'):\n",
        "    for filename in filenames:\n",
        "        print(os.path.join(dirname, filename))\n",
        "\n",
        "# You can write up to 20GB to the current directory (/kaggle/working/) that gets preserved as output when you create a version using \"Save & Run All\"\n",
        "# You can also write temporary files to /kaggle/temp/, but they won't be saved outside of the current session"
      ]
    },
    {
      "cell_type": "code",
      "execution_count": null,
      "id": "223cddd1",
      "metadata": {
        "execution": {
          "iopub.execute_input": "2023-12-26T16:54:47.549065Z",
          "iopub.status.busy": "2023-12-26T16:54:47.548396Z",
          "iopub.status.idle": "2023-12-26T16:54:47.574706Z",
          "shell.execute_reply": "2023-12-26T16:54:47.573297Z"
        },
        "papermill": {
          "duration": 0.038625,
          "end_time": "2023-12-26T16:54:47.578861",
          "exception": false,
          "start_time": "2023-12-26T16:54:47.540236",
          "status": "completed"
        },
        "tags": [],
        "id": "223cddd1"
      },
      "outputs": [],
      "source": [
        "df=pd.read_csv('/kaggle/input/graduate-admissions/Admission_Predict.csv')"
      ]
    },
    {
      "cell_type": "code",
      "execution_count": null,
      "id": "a46d024c",
      "metadata": {
        "execution": {
          "iopub.execute_input": "2023-12-26T16:54:47.593360Z",
          "iopub.status.busy": "2023-12-26T16:54:47.592857Z",
          "iopub.status.idle": "2023-12-26T16:54:47.602299Z",
          "shell.execute_reply": "2023-12-26T16:54:47.600689Z"
        },
        "papermill": {
          "duration": 0.020228,
          "end_time": "2023-12-26T16:54:47.604934",
          "exception": false,
          "start_time": "2023-12-26T16:54:47.584706",
          "status": "completed"
        },
        "tags": [],
        "id": "a46d024c",
        "outputId": "dedb15ef-7e4e-4755-aaaa-d3819f6c9b10"
      },
      "outputs": [
        {
          "data": {
            "text/plain": [
              "(400, 9)"
            ]
          },
          "execution_count": 3,
          "metadata": {},
          "output_type": "execute_result"
        }
      ],
      "source": [
        "df.shape"
      ]
    },
    {
      "cell_type": "code",
      "execution_count": null,
      "id": "a8cfe99f",
      "metadata": {
        "execution": {
          "iopub.execute_input": "2023-12-26T16:54:47.618035Z",
          "iopub.status.busy": "2023-12-26T16:54:47.617506Z",
          "iopub.status.idle": "2023-12-26T16:54:47.658776Z",
          "shell.execute_reply": "2023-12-26T16:54:47.657481Z"
        },
        "papermill": {
          "duration": 0.051058,
          "end_time": "2023-12-26T16:54:47.661480",
          "exception": false,
          "start_time": "2023-12-26T16:54:47.610422",
          "status": "completed"
        },
        "tags": [],
        "id": "a8cfe99f",
        "outputId": "05e563d8-28dc-4d84-d1cd-19a8b953c086"
      },
      "outputs": [
        {
          "data": {
            "text/html": [
              "<div>\n",
              "<style scoped>\n",
              "    .dataframe tbody tr th:only-of-type {\n",
              "        vertical-align: middle;\n",
              "    }\n",
              "\n",
              "    .dataframe tbody tr th {\n",
              "        vertical-align: top;\n",
              "    }\n",
              "\n",
              "    .dataframe thead th {\n",
              "        text-align: right;\n",
              "    }\n",
              "</style>\n",
              "<table border=\"1\" class=\"dataframe\">\n",
              "  <thead>\n",
              "    <tr style=\"text-align: right;\">\n",
              "      <th></th>\n",
              "      <th>Serial No.</th>\n",
              "      <th>GRE Score</th>\n",
              "      <th>TOEFL Score</th>\n",
              "      <th>University Rating</th>\n",
              "      <th>SOP</th>\n",
              "      <th>LOR</th>\n",
              "      <th>CGPA</th>\n",
              "      <th>Research</th>\n",
              "      <th>Chance of Admit</th>\n",
              "    </tr>\n",
              "  </thead>\n",
              "  <tbody>\n",
              "    <tr>\n",
              "      <th>321</th>\n",
              "      <td>322</td>\n",
              "      <td>323</td>\n",
              "      <td>104</td>\n",
              "      <td>3</td>\n",
              "      <td>4.0</td>\n",
              "      <td>4.0</td>\n",
              "      <td>8.44</td>\n",
              "      <td>1</td>\n",
              "      <td>0.73</td>\n",
              "    </tr>\n",
              "    <tr>\n",
              "      <th>233</th>\n",
              "      <td>234</td>\n",
              "      <td>304</td>\n",
              "      <td>100</td>\n",
              "      <td>2</td>\n",
              "      <td>2.5</td>\n",
              "      <td>3.5</td>\n",
              "      <td>8.07</td>\n",
              "      <td>0</td>\n",
              "      <td>0.64</td>\n",
              "    </tr>\n",
              "    <tr>\n",
              "      <th>249</th>\n",
              "      <td>250</td>\n",
              "      <td>321</td>\n",
              "      <td>111</td>\n",
              "      <td>3</td>\n",
              "      <td>3.5</td>\n",
              "      <td>4.0</td>\n",
              "      <td>8.83</td>\n",
              "      <td>1</td>\n",
              "      <td>0.77</td>\n",
              "    </tr>\n",
              "    <tr>\n",
              "      <th>63</th>\n",
              "      <td>64</td>\n",
              "      <td>315</td>\n",
              "      <td>107</td>\n",
              "      <td>2</td>\n",
              "      <td>4.0</td>\n",
              "      <td>3.0</td>\n",
              "      <td>8.50</td>\n",
              "      <td>1</td>\n",
              "      <td>0.56</td>\n",
              "    </tr>\n",
              "    <tr>\n",
              "      <th>106</th>\n",
              "      <td>107</td>\n",
              "      <td>329</td>\n",
              "      <td>111</td>\n",
              "      <td>4</td>\n",
              "      <td>4.5</td>\n",
              "      <td>4.5</td>\n",
              "      <td>9.18</td>\n",
              "      <td>1</td>\n",
              "      <td>0.87</td>\n",
              "    </tr>\n",
              "  </tbody>\n",
              "</table>\n",
              "</div>"
            ],
            "text/plain": [
              "     Serial No.  GRE Score  TOEFL Score  University Rating  SOP  LOR   CGPA  \\\n",
              "321         322        323          104                  3  4.0   4.0  8.44   \n",
              "233         234        304          100                  2  2.5   3.5  8.07   \n",
              "249         250        321          111                  3  3.5   4.0  8.83   \n",
              "63           64        315          107                  2  4.0   3.0  8.50   \n",
              "106         107        329          111                  4  4.5   4.5  9.18   \n",
              "\n",
              "     Research  Chance of Admit   \n",
              "321         1              0.73  \n",
              "233         0              0.64  \n",
              "249         1              0.77  \n",
              "63          1              0.56  \n",
              "106         1              0.87  "
            ]
          },
          "execution_count": 4,
          "metadata": {},
          "output_type": "execute_result"
        }
      ],
      "source": [
        "#seeing sample rows\n",
        "df.sample(5)"
      ]
    },
    {
      "cell_type": "code",
      "execution_count": null,
      "id": "d4c206db",
      "metadata": {
        "execution": {
          "iopub.execute_input": "2023-12-26T16:54:47.676187Z",
          "iopub.status.busy": "2023-12-26T16:54:47.675337Z",
          "iopub.status.idle": "2023-12-26T16:54:47.691724Z",
          "shell.execute_reply": "2023-12-26T16:54:47.690780Z"
        },
        "papermill": {
          "duration": 0.027177,
          "end_time": "2023-12-26T16:54:47.694376",
          "exception": false,
          "start_time": "2023-12-26T16:54:47.667199",
          "status": "completed"
        },
        "tags": [],
        "id": "d4c206db",
        "outputId": "bee9702c-f1e4-4bb4-cf93-232ea889b4ed"
      },
      "outputs": [
        {
          "data": {
            "text/plain": [
              "0"
            ]
          },
          "execution_count": 5,
          "metadata": {},
          "output_type": "execute_result"
        }
      ],
      "source": [
        "#No duplicates\n",
        "df.duplicated().sum()"
      ]
    },
    {
      "cell_type": "code",
      "execution_count": null,
      "id": "c4df1841",
      "metadata": {
        "execution": {
          "iopub.execute_input": "2023-12-26T16:54:47.710210Z",
          "iopub.status.busy": "2023-12-26T16:54:47.708648Z",
          "iopub.status.idle": "2023-12-26T16:54:47.735316Z",
          "shell.execute_reply": "2023-12-26T16:54:47.733905Z"
        },
        "papermill": {
          "duration": 0.038595,
          "end_time": "2023-12-26T16:54:47.738639",
          "exception": false,
          "start_time": "2023-12-26T16:54:47.700044",
          "status": "completed"
        },
        "tags": [],
        "id": "c4df1841",
        "outputId": "beb76ae9-a195-4a7e-b743-85186dfdef93"
      },
      "outputs": [
        {
          "name": "stdout",
          "output_type": "stream",
          "text": [
            "<class 'pandas.core.frame.DataFrame'>\n",
            "RangeIndex: 400 entries, 0 to 399\n",
            "Data columns (total 9 columns):\n",
            " #   Column             Non-Null Count  Dtype  \n",
            "---  ------             --------------  -----  \n",
            " 0   Serial No.         400 non-null    int64  \n",
            " 1   GRE Score          400 non-null    int64  \n",
            " 2   TOEFL Score        400 non-null    int64  \n",
            " 3   University Rating  400 non-null    int64  \n",
            " 4   SOP                400 non-null    float64\n",
            " 5   LOR                400 non-null    float64\n",
            " 6   CGPA               400 non-null    float64\n",
            " 7   Research           400 non-null    int64  \n",
            " 8   Chance of Admit    400 non-null    float64\n",
            "dtypes: float64(4), int64(5)\n",
            "memory usage: 28.2 KB\n"
          ]
        }
      ],
      "source": [
        "#No missing values\n",
        "df.info()"
      ]
    },
    {
      "cell_type": "code",
      "execution_count": null,
      "id": "55d8a34d",
      "metadata": {
        "execution": {
          "iopub.execute_input": "2023-12-26T16:54:47.752492Z",
          "iopub.status.busy": "2023-12-26T16:54:47.752010Z",
          "iopub.status.idle": "2023-12-26T16:54:47.762102Z",
          "shell.execute_reply": "2023-12-26T16:54:47.760903Z"
        },
        "papermill": {
          "duration": 0.019905,
          "end_time": "2023-12-26T16:54:47.764483",
          "exception": false,
          "start_time": "2023-12-26T16:54:47.744578",
          "status": "completed"
        },
        "tags": [],
        "id": "55d8a34d"
      },
      "outputs": [],
      "source": [
        "df.drop(columns=['Serial No.'],axis=1,inplace=True)"
      ]
    },
    {
      "cell_type": "code",
      "execution_count": null,
      "id": "f2e70bc4",
      "metadata": {
        "execution": {
          "iopub.execute_input": "2023-12-26T16:54:47.778972Z",
          "iopub.status.busy": "2023-12-26T16:54:47.778465Z",
          "iopub.status.idle": "2023-12-26T16:54:47.802411Z",
          "shell.execute_reply": "2023-12-26T16:54:47.801215Z"
        },
        "papermill": {
          "duration": 0.034494,
          "end_time": "2023-12-26T16:54:47.804981",
          "exception": false,
          "start_time": "2023-12-26T16:54:47.770487",
          "status": "completed"
        },
        "tags": [],
        "id": "f2e70bc4",
        "outputId": "20eb6f7f-ab3d-44e9-dd51-d5d340f3d33c"
      },
      "outputs": [
        {
          "data": {
            "text/html": [
              "<div>\n",
              "<style scoped>\n",
              "    .dataframe tbody tr th:only-of-type {\n",
              "        vertical-align: middle;\n",
              "    }\n",
              "\n",
              "    .dataframe tbody tr th {\n",
              "        vertical-align: top;\n",
              "    }\n",
              "\n",
              "    .dataframe thead th {\n",
              "        text-align: right;\n",
              "    }\n",
              "</style>\n",
              "<table border=\"1\" class=\"dataframe\">\n",
              "  <thead>\n",
              "    <tr style=\"text-align: right;\">\n",
              "      <th></th>\n",
              "      <th>GRE Score</th>\n",
              "      <th>TOEFL Score</th>\n",
              "      <th>University Rating</th>\n",
              "      <th>SOP</th>\n",
              "      <th>LOR</th>\n",
              "      <th>CGPA</th>\n",
              "      <th>Research</th>\n",
              "      <th>Chance of Admit</th>\n",
              "    </tr>\n",
              "  </thead>\n",
              "  <tbody>\n",
              "    <tr>\n",
              "      <th>0</th>\n",
              "      <td>337</td>\n",
              "      <td>118</td>\n",
              "      <td>4</td>\n",
              "      <td>4.5</td>\n",
              "      <td>4.5</td>\n",
              "      <td>9.65</td>\n",
              "      <td>1</td>\n",
              "      <td>0.92</td>\n",
              "    </tr>\n",
              "    <tr>\n",
              "      <th>1</th>\n",
              "      <td>324</td>\n",
              "      <td>107</td>\n",
              "      <td>4</td>\n",
              "      <td>4.0</td>\n",
              "      <td>4.5</td>\n",
              "      <td>8.87</td>\n",
              "      <td>1</td>\n",
              "      <td>0.76</td>\n",
              "    </tr>\n",
              "    <tr>\n",
              "      <th>2</th>\n",
              "      <td>316</td>\n",
              "      <td>104</td>\n",
              "      <td>3</td>\n",
              "      <td>3.0</td>\n",
              "      <td>3.5</td>\n",
              "      <td>8.00</td>\n",
              "      <td>1</td>\n",
              "      <td>0.72</td>\n",
              "    </tr>\n",
              "    <tr>\n",
              "      <th>3</th>\n",
              "      <td>322</td>\n",
              "      <td>110</td>\n",
              "      <td>3</td>\n",
              "      <td>3.5</td>\n",
              "      <td>2.5</td>\n",
              "      <td>8.67</td>\n",
              "      <td>1</td>\n",
              "      <td>0.80</td>\n",
              "    </tr>\n",
              "    <tr>\n",
              "      <th>4</th>\n",
              "      <td>314</td>\n",
              "      <td>103</td>\n",
              "      <td>2</td>\n",
              "      <td>2.0</td>\n",
              "      <td>3.0</td>\n",
              "      <td>8.21</td>\n",
              "      <td>0</td>\n",
              "      <td>0.65</td>\n",
              "    </tr>\n",
              "    <tr>\n",
              "      <th>...</th>\n",
              "      <td>...</td>\n",
              "      <td>...</td>\n",
              "      <td>...</td>\n",
              "      <td>...</td>\n",
              "      <td>...</td>\n",
              "      <td>...</td>\n",
              "      <td>...</td>\n",
              "      <td>...</td>\n",
              "    </tr>\n",
              "    <tr>\n",
              "      <th>395</th>\n",
              "      <td>324</td>\n",
              "      <td>110</td>\n",
              "      <td>3</td>\n",
              "      <td>3.5</td>\n",
              "      <td>3.5</td>\n",
              "      <td>9.04</td>\n",
              "      <td>1</td>\n",
              "      <td>0.82</td>\n",
              "    </tr>\n",
              "    <tr>\n",
              "      <th>396</th>\n",
              "      <td>325</td>\n",
              "      <td>107</td>\n",
              "      <td>3</td>\n",
              "      <td>3.0</td>\n",
              "      <td>3.5</td>\n",
              "      <td>9.11</td>\n",
              "      <td>1</td>\n",
              "      <td>0.84</td>\n",
              "    </tr>\n",
              "    <tr>\n",
              "      <th>397</th>\n",
              "      <td>330</td>\n",
              "      <td>116</td>\n",
              "      <td>4</td>\n",
              "      <td>5.0</td>\n",
              "      <td>4.5</td>\n",
              "      <td>9.45</td>\n",
              "      <td>1</td>\n",
              "      <td>0.91</td>\n",
              "    </tr>\n",
              "    <tr>\n",
              "      <th>398</th>\n",
              "      <td>312</td>\n",
              "      <td>103</td>\n",
              "      <td>3</td>\n",
              "      <td>3.5</td>\n",
              "      <td>4.0</td>\n",
              "      <td>8.78</td>\n",
              "      <td>0</td>\n",
              "      <td>0.67</td>\n",
              "    </tr>\n",
              "    <tr>\n",
              "      <th>399</th>\n",
              "      <td>333</td>\n",
              "      <td>117</td>\n",
              "      <td>4</td>\n",
              "      <td>5.0</td>\n",
              "      <td>4.0</td>\n",
              "      <td>9.66</td>\n",
              "      <td>1</td>\n",
              "      <td>0.95</td>\n",
              "    </tr>\n",
              "  </tbody>\n",
              "</table>\n",
              "<p>400 rows × 8 columns</p>\n",
              "</div>"
            ],
            "text/plain": [
              "     GRE Score  TOEFL Score  University Rating  SOP  LOR   CGPA  Research  \\\n",
              "0          337          118                  4  4.5   4.5  9.65         1   \n",
              "1          324          107                  4  4.0   4.5  8.87         1   \n",
              "2          316          104                  3  3.0   3.5  8.00         1   \n",
              "3          322          110                  3  3.5   2.5  8.67         1   \n",
              "4          314          103                  2  2.0   3.0  8.21         0   \n",
              "..         ...          ...                ...  ...   ...   ...       ...   \n",
              "395        324          110                  3  3.5   3.5  9.04         1   \n",
              "396        325          107                  3  3.0   3.5  9.11         1   \n",
              "397        330          116                  4  5.0   4.5  9.45         1   \n",
              "398        312          103                  3  3.5   4.0  8.78         0   \n",
              "399        333          117                  4  5.0   4.0  9.66         1   \n",
              "\n",
              "     Chance of Admit   \n",
              "0                0.92  \n",
              "1                0.76  \n",
              "2                0.72  \n",
              "3                0.80  \n",
              "4                0.65  \n",
              "..                ...  \n",
              "395              0.82  \n",
              "396              0.84  \n",
              "397              0.91  \n",
              "398              0.67  \n",
              "399              0.95  \n",
              "\n",
              "[400 rows x 8 columns]"
            ]
          },
          "execution_count": 8,
          "metadata": {},
          "output_type": "execute_result"
        }
      ],
      "source": [
        "df"
      ]
    },
    {
      "cell_type": "code",
      "execution_count": null,
      "id": "80418e96",
      "metadata": {
        "execution": {
          "iopub.execute_input": "2023-12-26T16:54:47.820244Z",
          "iopub.status.busy": "2023-12-26T16:54:47.819780Z",
          "iopub.status.idle": "2023-12-26T16:54:49.482118Z",
          "shell.execute_reply": "2023-12-26T16:54:49.480631Z"
        },
        "papermill": {
          "duration": 1.67381,
          "end_time": "2023-12-26T16:54:49.485465",
          "exception": false,
          "start_time": "2023-12-26T16:54:47.811655",
          "status": "completed"
        },
        "tags": [],
        "id": "80418e96"
      },
      "outputs": [],
      "source": [
        "X=df.iloc[:,0:-1]\n",
        "y=df.iloc[:,-1]\n",
        "\n",
        "from sklearn.model_selection import train_test_split\n",
        "\n",
        "X_train,X_test,y_train,y_test=train_test_split(X,y,test_size=0.2,random_state=2)\n"
      ]
    },
    {
      "cell_type": "code",
      "execution_count": null,
      "id": "aa6d24c7",
      "metadata": {
        "execution": {
          "iopub.execute_input": "2023-12-26T16:54:49.501808Z",
          "iopub.status.busy": "2023-12-26T16:54:49.501209Z",
          "iopub.status.idle": "2023-12-26T16:54:49.518498Z",
          "shell.execute_reply": "2023-12-26T16:54:49.517384Z"
        },
        "papermill": {
          "duration": 0.028582,
          "end_time": "2023-12-26T16:54:49.521556",
          "exception": false,
          "start_time": "2023-12-26T16:54:49.492974",
          "status": "completed"
        },
        "tags": [],
        "id": "aa6d24c7"
      },
      "outputs": [],
      "source": [
        "#min-max scaling\n",
        "from sklearn.preprocessing import MinMaxScaler\n",
        "scaler=MinMaxScaler()\n",
        "X_train_scaled=scaler.fit_transform(X_train)\n",
        "X_test_scaled=scaler.fit_transform(X_test)"
      ]
    },
    {
      "cell_type": "code",
      "execution_count": null,
      "id": "b12b7afe",
      "metadata": {
        "execution": {
          "iopub.execute_input": "2023-12-26T16:54:49.537986Z",
          "iopub.status.busy": "2023-12-26T16:54:49.537194Z",
          "iopub.status.idle": "2023-12-26T16:55:06.177223Z",
          "shell.execute_reply": "2023-12-26T16:55:06.175767Z"
        },
        "papermill": {
          "duration": 16.651502,
          "end_time": "2023-12-26T16:55:06.180515",
          "exception": false,
          "start_time": "2023-12-26T16:54:49.529013",
          "status": "completed"
        },
        "tags": [],
        "id": "b12b7afe"
      },
      "outputs": [],
      "source": [
        "from tensorflow.keras import Sequential\n",
        "from tensorflow.keras.layers import Dense\n",
        "model=Sequential()\n",
        "model.add(Dense(7,input_dim=7,activation='relu'))\n",
        "model.add(Dense(7,activation='relu'))\n",
        "model.add(Dense(1,activation='linear'))"
      ]
    },
    {
      "cell_type": "code",
      "execution_count": null,
      "id": "2af9ee6b",
      "metadata": {
        "execution": {
          "iopub.execute_input": "2023-12-26T16:55:06.196274Z",
          "iopub.status.busy": "2023-12-26T16:55:06.195805Z",
          "iopub.status.idle": "2023-12-26T16:55:06.221620Z",
          "shell.execute_reply": "2023-12-26T16:55:06.219721Z"
        },
        "papermill": {
          "duration": 0.045003,
          "end_time": "2023-12-26T16:55:06.231824",
          "exception": false,
          "start_time": "2023-12-26T16:55:06.186821",
          "status": "completed"
        },
        "tags": [],
        "id": "2af9ee6b",
        "outputId": "9743d292-f774-416d-86b9-f2b16ec4e3fb"
      },
      "outputs": [
        {
          "name": "stdout",
          "output_type": "stream",
          "text": [
            "Model: \"sequential\"\n",
            "_________________________________________________________________\n",
            " Layer (type)                Output Shape              Param #   \n",
            "=================================================================\n",
            " dense (Dense)               (None, 7)                 56        \n",
            "                                                                 \n",
            " dense_1 (Dense)             (None, 7)                 56        \n",
            "                                                                 \n",
            " dense_2 (Dense)             (None, 1)                 8         \n",
            "                                                                 \n",
            "=================================================================\n",
            "Total params: 120 (480.00 Byte)\n",
            "Trainable params: 120 (480.00 Byte)\n",
            "Non-trainable params: 0 (0.00 Byte)\n",
            "_________________________________________________________________\n"
          ]
        }
      ],
      "source": [
        "model.summary()"
      ]
    },
    {
      "cell_type": "code",
      "execution_count": null,
      "id": "9ec1a1b5",
      "metadata": {
        "execution": {
          "iopub.execute_input": "2023-12-26T16:55:06.249294Z",
          "iopub.status.busy": "2023-12-26T16:55:06.248775Z",
          "iopub.status.idle": "2023-12-26T16:55:06.274206Z",
          "shell.execute_reply": "2023-12-26T16:55:06.272632Z"
        },
        "papermill": {
          "duration": 0.037708,
          "end_time": "2023-12-26T16:55:06.277612",
          "exception": false,
          "start_time": "2023-12-26T16:55:06.239904",
          "status": "completed"
        },
        "tags": [],
        "id": "9ec1a1b5"
      },
      "outputs": [],
      "source": [
        "model.compile(optimizer='Adam',loss='mean_squared_error',metrics=['accuracy'])"
      ]
    },
    {
      "cell_type": "code",
      "execution_count": null,
      "id": "4e7443a5",
      "metadata": {
        "execution": {
          "iopub.execute_input": "2023-12-26T16:55:06.296046Z",
          "iopub.status.busy": "2023-12-26T16:55:06.295524Z",
          "iopub.status.idle": "2023-12-26T16:55:13.983158Z",
          "shell.execute_reply": "2023-12-26T16:55:13.982070Z"
        },
        "papermill": {
          "duration": 7.700547,
          "end_time": "2023-12-26T16:55:13.986345",
          "exception": false,
          "start_time": "2023-12-26T16:55:06.285798",
          "status": "completed"
        },
        "tags": [],
        "id": "4e7443a5",
        "outputId": "16926627-2d56-4221-b16a-ba6c735f3597"
      },
      "outputs": [
        {
          "name": "stdout",
          "output_type": "stream",
          "text": [
            "Epoch 1/100\n",
            "8/8 [==============================] - 1s 42ms/step - loss: 0.2786 - accuracy: 0.0000e+00 - val_loss: 0.2496 - val_accuracy: 0.0000e+00\n",
            "Epoch 2/100\n",
            "8/8 [==============================] - 0s 10ms/step - loss: 0.2007 - accuracy: 0.0000e+00 - val_loss: 0.1763 - val_accuracy: 0.0000e+00\n",
            "Epoch 3/100\n",
            "8/8 [==============================] - 0s 10ms/step - loss: 0.1372 - accuracy: 0.0000e+00 - val_loss: 0.1157 - val_accuracy: 0.0000e+00\n",
            "Epoch 4/100\n",
            "8/8 [==============================] - 0s 10ms/step - loss: 0.0884 - accuracy: 0.0000e+00 - val_loss: 0.0720 - val_accuracy: 0.0000e+00\n",
            "Epoch 5/100\n",
            "8/8 [==============================] - 0s 8ms/step - loss: 0.0556 - accuracy: 0.0000e+00 - val_loss: 0.0439 - val_accuracy: 0.0000e+00\n",
            "Epoch 6/100\n",
            "8/8 [==============================] - 0s 7ms/step - loss: 0.0343 - accuracy: 0.0000e+00 - val_loss: 0.0268 - val_accuracy: 0.0000e+00\n",
            "Epoch 7/100\n",
            "8/8 [==============================] - 0s 8ms/step - loss: 0.0219 - accuracy: 0.0000e+00 - val_loss: 0.0172 - val_accuracy: 0.0000e+00\n",
            "Epoch 8/100\n",
            "8/8 [==============================] - 0s 10ms/step - loss: 0.0152 - accuracy: 0.0000e+00 - val_loss: 0.0126 - val_accuracy: 0.0000e+00\n",
            "Epoch 9/100\n",
            "8/8 [==============================] - 0s 8ms/step - loss: 0.0122 - accuracy: 0.0000e+00 - val_loss: 0.0108 - val_accuracy: 0.0000e+00\n",
            "Epoch 10/100\n",
            "8/8 [==============================] - 0s 8ms/step - loss: 0.0112 - accuracy: 0.0000e+00 - val_loss: 0.0101 - val_accuracy: 0.0000e+00\n",
            "Epoch 11/100\n",
            "8/8 [==============================] - 0s 8ms/step - loss: 0.0107 - accuracy: 0.0000e+00 - val_loss: 0.0098 - val_accuracy: 0.0000e+00\n",
            "Epoch 12/100\n",
            "8/8 [==============================] - 0s 8ms/step - loss: 0.0105 - accuracy: 0.0000e+00 - val_loss: 0.0095 - val_accuracy: 0.0000e+00\n",
            "Epoch 13/100\n",
            "8/8 [==============================] - 0s 9ms/step - loss: 0.0102 - accuracy: 0.0000e+00 - val_loss: 0.0092 - val_accuracy: 0.0000e+00\n",
            "Epoch 14/100\n",
            "8/8 [==============================] - 0s 10ms/step - loss: 0.0099 - accuracy: 0.0000e+00 - val_loss: 0.0089 - val_accuracy: 0.0000e+00\n",
            "Epoch 15/100\n",
            "8/8 [==============================] - 0s 7ms/step - loss: 0.0095 - accuracy: 0.0000e+00 - val_loss: 0.0085 - val_accuracy: 0.0000e+00\n",
            "Epoch 16/100\n",
            "8/8 [==============================] - 0s 9ms/step - loss: 0.0092 - accuracy: 0.0000e+00 - val_loss: 0.0082 - val_accuracy: 0.0000e+00\n",
            "Epoch 17/100\n",
            "8/8 [==============================] - 0s 8ms/step - loss: 0.0089 - accuracy: 0.0000e+00 - val_loss: 0.0079 - val_accuracy: 0.0000e+00\n",
            "Epoch 18/100\n",
            "8/8 [==============================] - 0s 8ms/step - loss: 0.0086 - accuracy: 0.0000e+00 - val_loss: 0.0076 - val_accuracy: 0.0000e+00\n",
            "Epoch 19/100\n",
            "8/8 [==============================] - 0s 8ms/step - loss: 0.0083 - accuracy: 0.0000e+00 - val_loss: 0.0074 - val_accuracy: 0.0000e+00\n",
            "Epoch 20/100\n",
            "8/8 [==============================] - 0s 8ms/step - loss: 0.0080 - accuracy: 0.0000e+00 - val_loss: 0.0071 - val_accuracy: 0.0000e+00\n",
            "Epoch 21/100\n",
            "8/8 [==============================] - 0s 8ms/step - loss: 0.0077 - accuracy: 0.0000e+00 - val_loss: 0.0069 - val_accuracy: 0.0000e+00\n",
            "Epoch 22/100\n",
            "8/8 [==============================] - 0s 8ms/step - loss: 0.0075 - accuracy: 0.0000e+00 - val_loss: 0.0067 - val_accuracy: 0.0000e+00\n",
            "Epoch 23/100\n",
            "8/8 [==============================] - 0s 7ms/step - loss: 0.0073 - accuracy: 0.0000e+00 - val_loss: 0.0065 - val_accuracy: 0.0000e+00\n",
            "Epoch 24/100\n",
            "8/8 [==============================] - 0s 8ms/step - loss: 0.0071 - accuracy: 0.0000e+00 - val_loss: 0.0064 - val_accuracy: 0.0000e+00\n",
            "Epoch 25/100\n",
            "8/8 [==============================] - 0s 8ms/step - loss: 0.0069 - accuracy: 0.0000e+00 - val_loss: 0.0063 - val_accuracy: 0.0000e+00\n",
            "Epoch 26/100\n",
            "8/8 [==============================] - 0s 8ms/step - loss: 0.0068 - accuracy: 0.0000e+00 - val_loss: 0.0062 - val_accuracy: 0.0000e+00\n",
            "Epoch 27/100\n",
            "8/8 [==============================] - 0s 8ms/step - loss: 0.0066 - accuracy: 0.0000e+00 - val_loss: 0.0061 - val_accuracy: 0.0000e+00\n",
            "Epoch 28/100\n",
            "8/8 [==============================] - 0s 9ms/step - loss: 0.0065 - accuracy: 0.0000e+00 - val_loss: 0.0060 - val_accuracy: 0.0000e+00\n",
            "Epoch 29/100\n",
            "8/8 [==============================] - 0s 8ms/step - loss: 0.0064 - accuracy: 0.0000e+00 - val_loss: 0.0059 - val_accuracy: 0.0000e+00\n",
            "Epoch 30/100\n",
            "8/8 [==============================] - 0s 7ms/step - loss: 0.0063 - accuracy: 0.0000e+00 - val_loss: 0.0059 - val_accuracy: 0.0000e+00\n",
            "Epoch 31/100\n",
            "8/8 [==============================] - 0s 8ms/step - loss: 0.0062 - accuracy: 0.0000e+00 - val_loss: 0.0058 - val_accuracy: 0.0000e+00\n",
            "Epoch 32/100\n",
            "8/8 [==============================] - 0s 8ms/step - loss: 0.0061 - accuracy: 0.0000e+00 - val_loss: 0.0058 - val_accuracy: 0.0000e+00\n",
            "Epoch 33/100\n",
            "8/8 [==============================] - 0s 9ms/step - loss: 0.0061 - accuracy: 0.0000e+00 - val_loss: 0.0058 - val_accuracy: 0.0000e+00\n",
            "Epoch 34/100\n",
            "8/8 [==============================] - 0s 7ms/step - loss: 0.0060 - accuracy: 0.0000e+00 - val_loss: 0.0057 - val_accuracy: 0.0000e+00\n",
            "Epoch 35/100\n",
            "8/8 [==============================] - 0s 7ms/step - loss: 0.0059 - accuracy: 0.0000e+00 - val_loss: 0.0057 - val_accuracy: 0.0000e+00\n",
            "Epoch 36/100\n",
            "8/8 [==============================] - 0s 8ms/step - loss: 0.0059 - accuracy: 0.0000e+00 - val_loss: 0.0057 - val_accuracy: 0.0000e+00\n",
            "Epoch 37/100\n",
            "8/8 [==============================] - 0s 7ms/step - loss: 0.0059 - accuracy: 0.0000e+00 - val_loss: 0.0057 - val_accuracy: 0.0000e+00\n",
            "Epoch 38/100\n",
            "8/8 [==============================] - 0s 7ms/step - loss: 0.0058 - accuracy: 0.0000e+00 - val_loss: 0.0057 - val_accuracy: 0.0000e+00\n",
            "Epoch 39/100\n",
            "8/8 [==============================] - 0s 7ms/step - loss: 0.0058 - accuracy: 0.0000e+00 - val_loss: 0.0057 - val_accuracy: 0.0000e+00\n",
            "Epoch 40/100\n",
            "8/8 [==============================] - 0s 7ms/step - loss: 0.0057 - accuracy: 0.0000e+00 - val_loss: 0.0056 - val_accuracy: 0.0000e+00\n",
            "Epoch 41/100\n",
            "8/8 [==============================] - 0s 7ms/step - loss: 0.0057 - accuracy: 0.0000e+00 - val_loss: 0.0057 - val_accuracy: 0.0000e+00\n",
            "Epoch 42/100\n",
            "8/8 [==============================] - 0s 6ms/step - loss: 0.0057 - accuracy: 0.0000e+00 - val_loss: 0.0056 - val_accuracy: 0.0000e+00\n",
            "Epoch 43/100\n",
            "8/8 [==============================] - 0s 9ms/step - loss: 0.0056 - accuracy: 0.0000e+00 - val_loss: 0.0056 - val_accuracy: 0.0000e+00\n",
            "Epoch 44/100\n",
            "8/8 [==============================] - 0s 8ms/step - loss: 0.0056 - accuracy: 0.0000e+00 - val_loss: 0.0056 - val_accuracy: 0.0000e+00\n",
            "Epoch 45/100\n",
            "8/8 [==============================] - 0s 8ms/step - loss: 0.0056 - accuracy: 0.0000e+00 - val_loss: 0.0056 - val_accuracy: 0.0000e+00\n",
            "Epoch 46/100\n",
            "8/8 [==============================] - 0s 8ms/step - loss: 0.0056 - accuracy: 0.0000e+00 - val_loss: 0.0056 - val_accuracy: 0.0000e+00\n",
            "Epoch 47/100\n",
            "8/8 [==============================] - 0s 8ms/step - loss: 0.0055 - accuracy: 0.0000e+00 - val_loss: 0.0056 - val_accuracy: 0.0000e+00\n",
            "Epoch 48/100\n",
            "8/8 [==============================] - 0s 7ms/step - loss: 0.0055 - accuracy: 0.0000e+00 - val_loss: 0.0056 - val_accuracy: 0.0000e+00\n",
            "Epoch 49/100\n",
            "8/8 [==============================] - 0s 8ms/step - loss: 0.0055 - accuracy: 0.0000e+00 - val_loss: 0.0056 - val_accuracy: 0.0000e+00\n",
            "Epoch 50/100\n",
            "8/8 [==============================] - 0s 10ms/step - loss: 0.0055 - accuracy: 0.0000e+00 - val_loss: 0.0056 - val_accuracy: 0.0000e+00\n",
            "Epoch 51/100\n",
            "8/8 [==============================] - 0s 8ms/step - loss: 0.0055 - accuracy: 0.0000e+00 - val_loss: 0.0056 - val_accuracy: 0.0000e+00\n",
            "Epoch 52/100\n",
            "8/8 [==============================] - 0s 7ms/step - loss: 0.0054 - accuracy: 0.0000e+00 - val_loss: 0.0056 - val_accuracy: 0.0000e+00\n",
            "Epoch 53/100\n",
            "8/8 [==============================] - 0s 7ms/step - loss: 0.0054 - accuracy: 0.0000e+00 - val_loss: 0.0055 - val_accuracy: 0.0000e+00\n",
            "Epoch 54/100\n",
            "8/8 [==============================] - 0s 7ms/step - loss: 0.0054 - accuracy: 0.0000e+00 - val_loss: 0.0055 - val_accuracy: 0.0000e+00\n",
            "Epoch 55/100\n",
            "8/8 [==============================] - 0s 7ms/step - loss: 0.0054 - accuracy: 0.0000e+00 - val_loss: 0.0055 - val_accuracy: 0.0000e+00\n",
            "Epoch 56/100\n",
            "8/8 [==============================] - 0s 7ms/step - loss: 0.0054 - accuracy: 0.0000e+00 - val_loss: 0.0055 - val_accuracy: 0.0000e+00\n",
            "Epoch 57/100\n",
            "8/8 [==============================] - 0s 7ms/step - loss: 0.0053 - accuracy: 0.0000e+00 - val_loss: 0.0055 - val_accuracy: 0.0000e+00\n",
            "Epoch 58/100\n",
            "8/8 [==============================] - 0s 7ms/step - loss: 0.0053 - accuracy: 0.0000e+00 - val_loss: 0.0055 - val_accuracy: 0.0000e+00\n",
            "Epoch 59/100\n",
            "8/8 [==============================] - 0s 7ms/step - loss: 0.0053 - accuracy: 0.0000e+00 - val_loss: 0.0055 - val_accuracy: 0.0000e+00\n",
            "Epoch 60/100\n",
            "8/8 [==============================] - 0s 7ms/step - loss: 0.0053 - accuracy: 0.0000e+00 - val_loss: 0.0055 - val_accuracy: 0.0000e+00\n",
            "Epoch 61/100\n",
            "8/8 [==============================] - 0s 7ms/step - loss: 0.0053 - accuracy: 0.0000e+00 - val_loss: 0.0055 - val_accuracy: 0.0000e+00\n",
            "Epoch 62/100\n",
            "8/8 [==============================] - 0s 7ms/step - loss: 0.0053 - accuracy: 0.0000e+00 - val_loss: 0.0055 - val_accuracy: 0.0000e+00\n",
            "Epoch 63/100\n",
            "8/8 [==============================] - 0s 9ms/step - loss: 0.0053 - accuracy: 0.0000e+00 - val_loss: 0.0055 - val_accuracy: 0.0000e+00\n",
            "Epoch 64/100\n",
            "8/8 [==============================] - 0s 7ms/step - loss: 0.0052 - accuracy: 0.0000e+00 - val_loss: 0.0055 - val_accuracy: 0.0000e+00\n",
            "Epoch 65/100\n",
            "8/8 [==============================] - 0s 7ms/step - loss: 0.0052 - accuracy: 0.0000e+00 - val_loss: 0.0055 - val_accuracy: 0.0000e+00\n",
            "Epoch 66/100\n",
            "8/8 [==============================] - 0s 7ms/step - loss: 0.0052 - accuracy: 0.0000e+00 - val_loss: 0.0055 - val_accuracy: 0.0000e+00\n",
            "Epoch 67/100\n",
            "8/8 [==============================] - 0s 7ms/step - loss: 0.0052 - accuracy: 0.0000e+00 - val_loss: 0.0055 - val_accuracy: 0.0000e+00\n",
            "Epoch 68/100\n",
            "8/8 [==============================] - 0s 7ms/step - loss: 0.0052 - accuracy: 0.0000e+00 - val_loss: 0.0055 - val_accuracy: 0.0000e+00\n",
            "Epoch 69/100\n",
            "8/8 [==============================] - 0s 7ms/step - loss: 0.0052 - accuracy: 0.0000e+00 - val_loss: 0.0055 - val_accuracy: 0.0000e+00\n",
            "Epoch 70/100\n",
            "8/8 [==============================] - 0s 8ms/step - loss: 0.0052 - accuracy: 0.0000e+00 - val_loss: 0.0055 - val_accuracy: 0.0000e+00\n",
            "Epoch 71/100\n",
            "8/8 [==============================] - 0s 7ms/step - loss: 0.0051 - accuracy: 0.0000e+00 - val_loss: 0.0055 - val_accuracy: 0.0000e+00\n",
            "Epoch 72/100\n",
            "8/8 [==============================] - 0s 7ms/step - loss: 0.0051 - accuracy: 0.0000e+00 - val_loss: 0.0055 - val_accuracy: 0.0000e+00\n",
            "Epoch 73/100\n",
            "8/8 [==============================] - 0s 7ms/step - loss: 0.0051 - accuracy: 0.0000e+00 - val_loss: 0.0054 - val_accuracy: 0.0000e+00\n",
            "Epoch 74/100\n",
            "8/8 [==============================] - 0s 7ms/step - loss: 0.0051 - accuracy: 0.0000e+00 - val_loss: 0.0054 - val_accuracy: 0.0000e+00\n",
            "Epoch 75/100\n",
            "8/8 [==============================] - 0s 7ms/step - loss: 0.0051 - accuracy: 0.0000e+00 - val_loss: 0.0054 - val_accuracy: 0.0000e+00\n",
            "Epoch 76/100\n",
            "8/8 [==============================] - 0s 10ms/step - loss: 0.0051 - accuracy: 0.0000e+00 - val_loss: 0.0055 - val_accuracy: 0.0000e+00\n",
            "Epoch 77/100\n",
            "8/8 [==============================] - 0s 7ms/step - loss: 0.0051 - accuracy: 0.0000e+00 - val_loss: 0.0054 - val_accuracy: 0.0000e+00\n",
            "Epoch 78/100\n",
            "8/8 [==============================] - 0s 10ms/step - loss: 0.0051 - accuracy: 0.0000e+00 - val_loss: 0.0054 - val_accuracy: 0.0000e+00\n",
            "Epoch 79/100\n",
            "8/8 [==============================] - 0s 8ms/step - loss: 0.0051 - accuracy: 0.0000e+00 - val_loss: 0.0054 - val_accuracy: 0.0000e+00\n",
            "Epoch 80/100\n",
            "8/8 [==============================] - 0s 8ms/step - loss: 0.0050 - accuracy: 0.0000e+00 - val_loss: 0.0054 - val_accuracy: 0.0000e+00\n",
            "Epoch 81/100\n",
            "8/8 [==============================] - 0s 9ms/step - loss: 0.0050 - accuracy: 0.0000e+00 - val_loss: 0.0054 - val_accuracy: 0.0000e+00\n",
            "Epoch 82/100\n",
            "8/8 [==============================] - 0s 7ms/step - loss: 0.0050 - accuracy: 0.0000e+00 - val_loss: 0.0054 - val_accuracy: 0.0000e+00\n",
            "Epoch 83/100\n",
            "8/8 [==============================] - 0s 8ms/step - loss: 0.0050 - accuracy: 0.0000e+00 - val_loss: 0.0054 - val_accuracy: 0.0000e+00\n",
            "Epoch 84/100\n",
            "8/8 [==============================] - 0s 8ms/step - loss: 0.0050 - accuracy: 0.0000e+00 - val_loss: 0.0054 - val_accuracy: 0.0000e+00\n",
            "Epoch 85/100\n",
            "8/8 [==============================] - 0s 7ms/step - loss: 0.0050 - accuracy: 0.0000e+00 - val_loss: 0.0054 - val_accuracy: 0.0000e+00\n",
            "Epoch 86/100\n",
            "8/8 [==============================] - 0s 8ms/step - loss: 0.0050 - accuracy: 0.0000e+00 - val_loss: 0.0054 - val_accuracy: 0.0000e+00\n",
            "Epoch 87/100\n",
            "8/8 [==============================] - 0s 7ms/step - loss: 0.0050 - accuracy: 0.0000e+00 - val_loss: 0.0054 - val_accuracy: 0.0000e+00\n",
            "Epoch 88/100\n",
            "8/8 [==============================] - 0s 7ms/step - loss: 0.0050 - accuracy: 0.0000e+00 - val_loss: 0.0054 - val_accuracy: 0.0000e+00\n",
            "Epoch 89/100\n",
            "8/8 [==============================] - 0s 7ms/step - loss: 0.0050 - accuracy: 0.0000e+00 - val_loss: 0.0054 - val_accuracy: 0.0000e+00\n",
            "Epoch 90/100\n",
            "8/8 [==============================] - 0s 7ms/step - loss: 0.0050 - accuracy: 0.0000e+00 - val_loss: 0.0054 - val_accuracy: 0.0000e+00\n",
            "Epoch 91/100\n",
            "8/8 [==============================] - 0s 8ms/step - loss: 0.0050 - accuracy: 0.0000e+00 - val_loss: 0.0054 - val_accuracy: 0.0000e+00\n",
            "Epoch 92/100\n",
            "8/8 [==============================] - 0s 8ms/step - loss: 0.0049 - accuracy: 0.0000e+00 - val_loss: 0.0054 - val_accuracy: 0.0000e+00\n",
            "Epoch 93/100\n",
            "8/8 [==============================] - 0s 8ms/step - loss: 0.0049 - accuracy: 0.0000e+00 - val_loss: 0.0054 - val_accuracy: 0.0000e+00\n",
            "Epoch 94/100\n",
            "8/8 [==============================] - 0s 7ms/step - loss: 0.0049 - accuracy: 0.0000e+00 - val_loss: 0.0054 - val_accuracy: 0.0000e+00\n",
            "Epoch 95/100\n",
            "8/8 [==============================] - 0s 7ms/step - loss: 0.0049 - accuracy: 0.0000e+00 - val_loss: 0.0054 - val_accuracy: 0.0000e+00\n",
            "Epoch 96/100\n",
            "8/8 [==============================] - 0s 6ms/step - loss: 0.0049 - accuracy: 0.0000e+00 - val_loss: 0.0054 - val_accuracy: 0.0000e+00\n",
            "Epoch 97/100\n",
            "8/8 [==============================] - 0s 6ms/step - loss: 0.0049 - accuracy: 0.0000e+00 - val_loss: 0.0054 - val_accuracy: 0.0000e+00\n",
            "Epoch 98/100\n",
            "8/8 [==============================] - 0s 6ms/step - loss: 0.0049 - accuracy: 0.0000e+00 - val_loss: 0.0054 - val_accuracy: 0.0000e+00\n",
            "Epoch 99/100\n",
            "8/8 [==============================] - 0s 7ms/step - loss: 0.0049 - accuracy: 0.0000e+00 - val_loss: 0.0054 - val_accuracy: 0.0000e+00\n",
            "Epoch 100/100\n",
            "8/8 [==============================] - 0s 7ms/step - loss: 0.0049 - accuracy: 0.0000e+00 - val_loss: 0.0054 - val_accuracy: 0.0000e+00\n"
          ]
        }
      ],
      "source": [
        "history=model.fit(X_train_scaled,y_train,epochs=100,validation_split=0.2)"
      ]
    },
    {
      "cell_type": "code",
      "execution_count": null,
      "id": "348e90f8",
      "metadata": {
        "execution": {
          "iopub.execute_input": "2023-12-26T16:55:14.047841Z",
          "iopub.status.busy": "2023-12-26T16:55:14.046455Z",
          "iopub.status.idle": "2023-12-26T16:55:14.274824Z",
          "shell.execute_reply": "2023-12-26T16:55:14.273418Z"
        },
        "papermill": {
          "duration": 0.264036,
          "end_time": "2023-12-26T16:55:14.278544",
          "exception": false,
          "start_time": "2023-12-26T16:55:14.014508",
          "status": "completed"
        },
        "tags": [],
        "id": "348e90f8",
        "outputId": "8f8c15f7-586f-49d9-8489-2a2dd1ecb498"
      },
      "outputs": [
        {
          "name": "stdout",
          "output_type": "stream",
          "text": [
            "3/3 [==============================] - 0s 4ms/step\n"
          ]
        }
      ],
      "source": [
        "y_pred=model.predict(X_test_scaled)"
      ]
    },
    {
      "cell_type": "code",
      "execution_count": null,
      "id": "b1474308",
      "metadata": {
        "execution": {
          "iopub.execute_input": "2023-12-26T16:55:14.339479Z",
          "iopub.status.busy": "2023-12-26T16:55:14.338719Z",
          "iopub.status.idle": "2023-12-26T16:55:14.350802Z",
          "shell.execute_reply": "2023-12-26T16:55:14.349235Z"
        },
        "papermill": {
          "duration": 0.046428,
          "end_time": "2023-12-26T16:55:14.354000",
          "exception": false,
          "start_time": "2023-12-26T16:55:14.307572",
          "status": "completed"
        },
        "tags": [],
        "id": "b1474308",
        "outputId": "2d9e9cf9-f80c-4d28-efb2-463150338fd4"
      },
      "outputs": [
        {
          "data": {
            "text/plain": [
              "0.7081656554358651"
            ]
          },
          "execution_count": 16,
          "metadata": {},
          "output_type": "execute_result"
        }
      ],
      "source": [
        "from sklearn.metrics import r2_score\n",
        "r2_score(y_pred,y_test)"
      ]
    },
    {
      "cell_type": "code",
      "execution_count": null,
      "id": "20b1c68b",
      "metadata": {
        "papermill": {
          "duration": 0.028061,
          "end_time": "2023-12-26T16:55:14.418755",
          "exception": false,
          "start_time": "2023-12-26T16:55:14.390694",
          "status": "completed"
        },
        "tags": [],
        "id": "20b1c68b"
      },
      "outputs": [],
      "source": []
    }
  ],
  "metadata": {
    "kaggle": {
      "accelerator": "none",
      "dataSources": [
        {
          "datasetId": 14872,
          "sourceId": 228180,
          "sourceType": "datasetVersion"
        },
        {
          "datasetId": 4222411,
          "sourceId": 7282111,
          "sourceType": "datasetVersion"
        }
      ],
      "dockerImageVersionId": 30626,
      "isGpuEnabled": false,
      "isInternetEnabled": true,
      "language": "python",
      "sourceType": "notebook"
    },
    "kernelspec": {
      "display_name": "Python 3",
      "language": "python",
      "name": "python3"
    },
    "language_info": {
      "codemirror_mode": {
        "name": "ipython",
        "version": 3
      },
      "file_extension": ".py",
      "mimetype": "text/x-python",
      "name": "python",
      "nbconvert_exporter": "python",
      "pygments_lexer": "ipython3",
      "version": "3.10.12"
    },
    "papermill": {
      "default_parameters": {},
      "duration": 33.669965,
      "end_time": "2023-12-26T16:55:17.035974",
      "environment_variables": {},
      "exception": null,
      "input_path": "__notebook__.ipynb",
      "output_path": "__notebook__.ipynb",
      "parameters": {},
      "start_time": "2023-12-26T16:54:43.366009",
      "version": "2.4.0"
    },
    "colab": {
      "provenance": [],
      "include_colab_link": true
    }
  },
  "nbformat": 4,
  "nbformat_minor": 5
}